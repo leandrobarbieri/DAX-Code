{
  "nbformat": 4,
  "nbformat_minor": 0,
  "metadata": {
    "colab": {
      "name": "loop_while.ipynb",
      "provenance": [],
      "collapsed_sections": [],
      "authorship_tag": "ABX9TyNShYvP2HUZsb52FeguCW7s",
      "include_colab_link": true
    },
    "kernelspec": {
      "name": "python3",
      "display_name": "Python 3"
    },
    "language_info": {
      "name": "python"
    }
  },
  "cells": [
    {
      "cell_type": "markdown",
      "metadata": {
        "id": "view-in-github",
        "colab_type": "text"
      },
      "source": [
        "<a href=\"https://colab.research.google.com/github/leandrobarbieri/DAX-Code/blob/main/loop_while.ipynb\" target=\"_parent\"><img src=\"https://colab.research.google.com/assets/colab-badge.svg\" alt=\"Open In Colab\"/></a>"
      ]
    },
    {
      "cell_type": "markdown",
      "metadata": {
        "id": "iT5w8RnhFgOs"
      },
      "source": [
        "Repetição enquanto a clausula for verdade\n",
        "Parecido com for mas a condição de parada com expressão bool\n",
        "Repete enquanto a expressão for verdadeira\n",
        "- Expressão bool o resultado é True ou False num < 5\n",
        "- Critério de parada = condição = False"
      ]
    },
    {
      "cell_type": "code",
      "metadata": {
        "colab": {
          "base_uri": "https://localhost:8080/"
        },
        "id": "8HElVXVmDzb_",
        "outputId": "826a113e-9ef4-4881-a85a-efa6d52491d0"
      },
      "source": [
        "# Condição de parada\n",
        "parada = 0\n",
        "while parada <= 10:\n",
        "  print(f\"Valor: {parada}\")\n",
        "  parada += 1"
      ],
      "execution_count": 2,
      "outputs": [
        {
          "output_type": "stream",
          "name": "stdout",
          "text": [
            "Valor: 0\n",
            "Valor: 1\n",
            "Valor: 2\n",
            "Valor: 3\n",
            "Valor: 4\n",
            "Valor: 5\n",
            "Valor: 6\n",
            "Valor: 7\n",
            "Valor: 8\n",
            "Valor: 9\n",
            "Valor: 10\n"
          ]
        }
      ]
    },
    {
      "cell_type": "code",
      "metadata": {
        "colab": {
          "base_uri": "https://localhost:8080/"
        },
        "id": "RktdNzn4EIMC",
        "outputId": "1a43722d-08d3-485a-f2ab-388b70fff073"
      },
      "source": [
        "# Condição de saída em tempo de execução\n",
        "saida = True \n",
        "while saida:\n",
        "  if input(\"Deseja sair? S/N\") == \"S\":\n",
        "    saida = False\n"
      ],
      "execution_count": 4,
      "outputs": [
        {
          "name": "stdout",
          "output_type": "stream",
          "text": [
            "Deseja sair? S/NN\n",
            "Deseja sair? S/NN\n",
            "Deseja sair? S/NN\n",
            "Deseja sair? S/NS\n"
          ]
        }
      ]
    },
    {
      "cell_type": "code",
      "metadata": {
        "colab": {
          "base_uri": "https://localhost:8080/"
        },
        "id": "ml2MFADkFETc",
        "outputId": "763ada82-131a-4b37-c428-4b1db495722b"
      },
      "source": [
        "# Usando break\n",
        "while True:\n",
        "  if input(\"Deseja sair S/N? \") == \"S\":\n",
        "    break"
      ],
      "execution_count": 5,
      "outputs": [
        {
          "name": "stdout",
          "output_type": "stream",
          "text": [
            "Deseja sair S/N? N\n",
            "Deseja sair S/N? N\n",
            "Deseja sair S/N? S\n"
          ]
        }
      ]
    },
    {
      "cell_type": "code",
      "metadata": {
        "id": "GzPUEEuhFbtr"
      },
      "source": [
        ""
      ],
      "execution_count": null,
      "outputs": []
    }
  ]
}